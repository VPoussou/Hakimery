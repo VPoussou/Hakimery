{
 "cells": [
  {
   "cell_type": "markdown",
   "metadata": {},
   "source": [
    "Donc on va tester l'applicabilité du TVI sur des intervalles constitués en divisant le domaine de définition de la fonction par 2 et en cherchant dans quelle moitié du domaine de définition de la fonction le TVI s'applique\n",
    "\n",
    "On a besoin qu'il y aie un changement de signe entre les deux bornes de l'intervalle du TVI"
   ]
  },
  {
   "cell_type": "code",
   "execution_count": 7,
   "metadata": {},
   "outputs": [],
   "source": [
    "import math\n",
    "from typing import Callable"
   ]
  },
  {
   "cell_type": "code",
   "execution_count": 8,
   "metadata": {},
   "outputs": [],
   "source": [
    "def f(x):\n",
    "    return x**2 - 8 * math.log(x)"
   ]
  },
  {
   "cell_type": "code",
   "execution_count": 9,
   "metadata": {},
   "outputs": [],
   "source": [
    "def dichotomie(start:float, end:float, precision:float, fct:Callable) -> float:\n",
    "    mid = (start + end) / 2\n",
    "    while abs(fct(mid)) > precision:\n",
    "        if fct(start) * f(mid) < 0:\n",
    "            end = mid\n",
    "        else:\n",
    "            start = mid\n",
    "        mid = (start + end) / 2\n",
    "    return mid"
   ]
  },
  {
   "cell_type": "code",
   "execution_count": 10,
   "metadata": {},
   "outputs": [
    {
     "data": {
      "text/plain": [
       "1.1956787109375"
      ]
     },
     "execution_count": 10,
     "metadata": {},
     "output_type": "execute_result"
    }
   ],
   "source": [
    "dichotomie(1, 3, 0.0001, f)"
   ]
  }
 ],
 "metadata": {
  "kernelspec": {
   "display_name": "venv",
   "language": "python",
   "name": "python3"
  },
  "language_info": {
   "codemirror_mode": {
    "name": "ipython",
    "version": 3
   },
   "file_extension": ".py",
   "mimetype": "text/x-python",
   "name": "python",
   "nbconvert_exporter": "python",
   "pygments_lexer": "ipython3",
   "version": "3.10.8"
  }
 },
 "nbformat": 4,
 "nbformat_minor": 2
}
