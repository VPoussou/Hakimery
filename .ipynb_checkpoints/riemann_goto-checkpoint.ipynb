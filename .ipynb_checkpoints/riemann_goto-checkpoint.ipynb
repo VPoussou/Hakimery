{
 "cells": [
  {
   "cell_type": "code",
   "execution_count": 1,
   "id": "4a5c1405-3019-476d-bb6b-ec68d36603e0",
   "metadata": {},
   "outputs": [
    {
     "ename": "ModuleNotFoundError",
     "evalue": "No module named 'matplotlib'",
     "output_type": "error",
     "traceback": [
      "\u001b[1;31m---------------------------------------------------------------------------\u001b[0m",
      "\u001b[1;31mModuleNotFoundError\u001b[0m                       Traceback (most recent call last)",
      "Cell \u001b[1;32mIn[1], line 2\u001b[0m\n\u001b[0;32m      1\u001b[0m \u001b[38;5;28;01mimport\u001b[39;00m \u001b[38;5;21;01mmath\u001b[39;00m\n\u001b[1;32m----> 2\u001b[0m \u001b[38;5;28;01mimport\u001b[39;00m \u001b[38;5;21;01mmatplotlib\u001b[39;00m \u001b[38;5;28;01mas\u001b[39;00m \u001b[38;5;21;01mpls\u001b[39;00m\n",
      "\u001b[1;31mModuleNotFoundError\u001b[0m: No module named 'matplotlib'"
     ]
    }
   ],
   "source": [
    "import math\n",
    "import matplotlib as pls"
   ]
  },
  {
   "cell_type": "code",
   "execution_count": null,
   "id": "ec548905-d28b-44a9-aad9-122f24320df0",
   "metadata": {},
   "outputs": [],
   "source": [
    "def f(x):\n",
    "    return x**2 - 8*math.log(x)"
   ]
  },
  {
   "cell_type": "code",
   "execution_count": null,
   "id": "534b8a5a-146e-4cac-9c66-a96db2b49108",
   "metadata": {},
   "outputs": [],
   "source": [
    "start = 0.5\n",
    "end = 5\n",
    "step = 0.01\n",
    "number_of_points = int((end - start) / step)\n",
    "x_values = []\n",
    "y_values = []\n",
    "\n",
    "for index_point in range(0, number_of_points + 1)\n",
    "    current_x = start + index_point * step\n",
    "    current_y = f(current_x)\n",
    "    x_values.append(current_x)\n",
    "    y_values.append(current_y)\n",
    "print(x_values)\n",
    "print(\"\\n\")\n",
    "print(y_values)"
   ]
  }
 ],
 "metadata": {
  "kernelspec": {
   "display_name": "Python 3 (ipykernel)",
   "language": "python",
   "name": "python3"
  },
  "language_info": {
   "codemirror_mode": {
    "name": "ipython",
    "version": 3
   },
   "file_extension": ".py",
   "mimetype": "text/x-python",
   "name": "python",
   "nbconvert_exporter": "python",
   "pygments_lexer": "ipython3",
   "version": "3.10.8"
  }
 },
 "nbformat": 4,
 "nbformat_minor": 5
}
